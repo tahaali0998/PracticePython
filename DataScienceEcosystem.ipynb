{
 "cells": [
  {
   "cell_type": "markdown",
   "id": "9bf8cee3-c682-4a47-82f3-923cc0a6d904",
   "metadata": {},
   "source": [
    "# Data Science Tools and Ecosystem\n"
   ]
  },
  {
   "cell_type": "markdown",
   "id": "3ee84e5f-dd01-4c67-862b-68ad895e627c",
   "metadata": {},
   "source": [
    "## In this notebook, Data Science Tools and Ecosystem are summarized."
   ]
  },
  {
   "cell_type": "markdown",
   "id": "25564cee-b171-4d84-8eee-09b0ac68ed70",
   "metadata": {},
   "source": [
    "### Objectives:\n",
    "- List popular languages for Data Science  \n",
    "- Identify commonly used Data Science tools  \n",
    "- Create and format tables using markdown  \n",
    "- Write and execute arithmetic expressions in Python  \n",
    "- Understand the ecosystem of Data Science "
   ]
  },
  {
   "cell_type": "markdown",
   "id": "702443ce-1867-414d-a561-0a9e4a0c946d",
   "metadata": {},
   "source": [
    "### Some of the popular languages that Data Scientists use are:\n",
    "1. Python\n",
    "2. R\n",
    "3. SQL\n",
    "4. Scala"
   ]
  },
  {
   "cell_type": "markdown",
   "id": "4186491b-c369-402d-b0b9-62d431daa9eb",
   "metadata": {},
   "source": [
    "### Some of the commonly used libraries used by Data Scientists include:\n",
    "1. Numpy\n",
    "2. Pandas\n",
    "3. Seaborn\n",
    "4. Matplotlib"
   ]
  },
  {
   "cell_type": "markdown",
   "id": "a118053b-c183-4373-8126-d4c3bb41d48f",
   "metadata": {},
   "source": [
    "#### Data Science Tools:\n",
    "##### Jupyter Notebook\n",
    "##### Apache Hadoop\n",
    "##### RStudio\n",
    "\n"
   ]
  },
  {
   "cell_type": "markdown",
   "id": "f3fc0b59-1874-40d8-b671-526e056ad809",
   "metadata": {},
   "source": [
    "### Below are a few examples of evaluating arithmetic expressions in Python:"
   ]
  },
  {
   "cell_type": "raw",
   "id": "44116870-53f9-48ef-b6e5-31b31e8b22a5",
   "metadata": {},
   "source": [
    " This a simple arithmetic expression to mutiply then add integers"
   ]
  },
  {
   "cell_type": "code",
   "execution_count": 6,
   "id": "e5159e70-46e8-4d42-bebf-155195c54ad2",
   "metadata": {},
   "outputs": [
    {
     "name": "stdout",
     "output_type": "stream",
     "text": [
      "17\n"
     ]
    }
   ],
   "source": [
    "expression= (3*4)+5\n",
    "print(expression)"
   ]
  },
  {
   "cell_type": "raw",
   "id": "a2c4056d-845d-46de-9c70-4a07d3387bc5",
   "metadata": {},
   "source": [
    "This will convert 200 minutes to hours by diving by 60"
   ]
  },
  {
   "cell_type": "code",
   "execution_count": 8,
   "id": "b26160fa-3760-4e70-a23a-c10a5f9b3cb3",
   "metadata": {},
   "outputs": [
    {
     "name": "stdout",
     "output_type": "stream",
     "text": [
      "3.3333333333333335\n"
     ]
    }
   ],
   "source": [
    "result= (200/60)\n",
    "print(result)"
   ]
  },
  {
   "cell_type": "markdown",
   "id": "1c69441d-0be0-47a1-b611-ef0aa57410de",
   "metadata": {},
   "source": [
    "## Author: \n",
    "Taha Muhammad"
   ]
  },
  {
   "cell_type": "code",
   "execution_count": null,
   "id": "a2744f25-b8f5-4ee0-aa9a-67cedee5f0b2",
   "metadata": {},
   "outputs": [],
   "source": []
  }
 ],
 "metadata": {
  "kernelspec": {
   "display_name": "Python [conda env:base] *",
   "language": "python",
   "name": "conda-base-py"
  },
  "language_info": {
   "codemirror_mode": {
    "name": "ipython",
    "version": 3
   },
   "file_extension": ".py",
   "mimetype": "text/x-python",
   "name": "python",
   "nbconvert_exporter": "python",
   "pygments_lexer": "ipython3",
   "version": "3.13.5"
  }
 },
 "nbformat": 4,
 "nbformat_minor": 5
}
